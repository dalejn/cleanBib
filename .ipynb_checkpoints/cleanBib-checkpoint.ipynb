{
 "cells": [
  {
   "cell_type": "code",
   "execution_count": null,
   "metadata": {
    "collapsed": true
   },
   "outputs": [],
   "source": [
    "from pybtex.database.input import bibtex\n",
    "import glob\n",
    "import csv\n",
    "\n",
    "yourFirstAuthor = 'Stiso, Jennifer'\n",
    "yourLastAuthor = 'Bassett, Danielle'\n",
    "\n",
    "baseDirectory = 'C:\\\\Users\\\\jenis\\\\Documents\\\\cleanBib-master\\\\'\n",
    "\n",
    "ID = glob.glob(baseDirectory + '*bib')\n",
    "print(ID)  # Print number of files read\n",
    "\n",
    "FA = []\n",
    "LA = []\n",
    "\n",
    "parser = bibtex.Parser()\n",
    "bib_data = parser.parse_file(ID[0])\n",
    "counter = 1\n",
    "outPath = baseDirectory + 'cleanedBib.csv'\n",
    "\n",
    "with open(outPath, 'w', newline='') as csvfile:\n",
    "    writer = csv.writer(csvfile, delimiter=',',\n",
    "                            quotechar='|', quoting=csv.QUOTE_MINIMAL)\n",
    "    writer.writerow(['Article', 'FA', 'LA', 'Title', 'SelfCite'])\n",
    "\n",
    "for key in bib_data.entries.keys():\n",
    "    print(key)\n",
    "    try:\n",
    "        author = bib_data.entries[key].persons['author']\n",
    "        FA = author[0].rich_first_names\n",
    "        print(str(FA)[7:-3])\n",
    "        LA = author[-1].rich_first_names\n",
    "        print(str(LA)[7:-3])\n",
    "    except:\n",
    "        author = bib_data.entries[key].persons['editor']\n",
    "        FA = author[0].rich_first_names\n",
    "        print(str(FA)[7:-3])\n",
    "        LA = author[-1].rich_first_names\n",
    "        print(str(LA)[7:-3])\n",
    "\n",
    "    if (yourFirstAuthor!='LastName, FirstName') and (yourLastAuthor!='LastName, FirstName'):\n",
    "        selfCiteCheck1 = [s for s in author if\n",
    "         yourLastAuthor in str([str(s.rich_last_names)[7:-3], str(s.rich_first_names)[7:-3]]).replace(\"'\", \"\")]\n",
    "\n",
    "        selfCiteCheck2 = [s for s in author if\n",
    "         yourFirstAuthor in str([str(s.rich_last_names)[7:-3], str(s.rich_first_names)[7:-3]]).replace(\"'\", \"\")]\n",
    "\n",
    "        if (len(selfCiteCheck1)>0) or (len(selfCiteCheck2)>0):\n",
    "            selfCite = 'Y'\n",
    "        else:\n",
    "            selfCite= 'N'\n",
    "    else:\n",
    "        selfCite = 'NA'\n",
    "\n",
    "    with open(outPath, 'a', newline='') as csvfile:\n",
    "        writer = csv.writer(csvfile, delimiter=',',\n",
    "                                quotechar='|', quoting=csv.QUOTE_MINIMAL)\n",
    "        writer.writerow([counter, str(FA)[7:-3], str(LA)[7:-3], bib_data.entries[key].fields['title'].replace(',', '')\n",
    ", selfCite])\n",
    "    counter += 1"
   ]
  }
 ],
 "metadata": {
  "kernelspec": {
   "display_name": "Python 3",
   "language": "python",
   "name": "python3"
  },
  "language_info": {
   "codemirror_mode": {
    "name": "ipython",
    "version": 3
   },
   "file_extension": ".py",
   "mimetype": "text/x-python",
   "name": "python",
   "nbconvert_exporter": "python",
   "pygments_lexer": "ipython3",
   "version": "3.7.1"
  }
 },
 "nbformat": 4,
 "nbformat_minor": 2
}

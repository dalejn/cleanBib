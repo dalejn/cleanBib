{
 "cells": [
  {
   "cell_type": "markdown",
   "metadata": {
    "kernel": "SoS"
   },
   "source": [
    "# Clean Bibliography\n",
    "\n",
    "To goal of this notebook is to clean your `.bib` file to ensure that it only contains the full first names of references that you have cited in your paper. The full first names will then be used to query the probabilistic gender classifier, [Gender API](https://gender-api.com). The full names will be used to query for probabilistic race using the [ethnicolr package](https://ethnicolr.readthedocs.io/).\n",
    "\n",
    "The only required file you need is your manuscript's bibliography in `.bib` format. __Your `.bib` must only contain references cited in the manuscript__. Otherwise, the estimated proportions will be inaccurate.\n",
    "\n",
    "If you intend to analyze the reference list of a published paper instead of your own manuscript in progress, search the paper on [Web of Knowledge](http://apps.webofknowledge.com/) (you will need institutional access). Next, [download the .bib file from Web of Science following these instructions, but start from Step 4 and on Step 6 select BibTeX instead of Plain Text](https://github.com/jdwor/gendercitation/blob/master/Step0_PullingWOSdata.pdf).\n",
    "\n",
    "If you are not using LaTeX, collect and organize only the references you have cited in your manuscript using your reference manager of choice (e.g. Mendeley, Zotero, EndNote, ReadCube, etc.) and export that selected bibliography as a `.bib` file. __Please try to export your .bib in an output style that uses full first names (rather than only first initials) and using the full author lists (rather than abbreviated author lists with \"et al.\").__ If first initials are included, our code will automatically retrieve about 70% of those names using the article title or DOI. \n",
    "\n",
    "   * [Export `.bib` from Mendeley](https://blog.mendeley.com/2011/10/25/howto-use-mendeley-to-create-citations-using-latex-and-bibtex/)\n",
    "   * [Export `.bib` from Zotero](https://libguides.mit.edu/ld.php?content_id=34248570)\n",
    "   * [Export `.bib` from EndNote](https://www.reed.edu/cis/help/LaTeX/EndNote.html). Note: Please export full first names by either [choosing an output style that does so by default (e.g. in MLA style)](https://canterbury.libguides.com/endnote/basics-output) or by [customizing an output style.](http://bibliotek.usn.no/cite-and-write/endnote/how-to-use/how-to-show-the-author-s-full-name-in-the-reference-list-article185897-28181.html)\n",
    "   * [Export `.bib` from Read Cube Papers](https://support.papersapp.com/support/solutions/articles/30000024634-how-can-i-export-references-from-readcube-papers-)\n",
    "\n",
    "For those working in LaTeX, we can use an optional `.aux` file to automatically filter your `.bib` to check that it only contains entries which are cited in your manuscript.\n",
    "\n",
    "| Input                 | Output                                                                                                                        |\n",
    "|-----------------------|-------------------------------------------------------------------------------------------------------------------------------|\n",
    "| `.bib` file(s)**(REQUIRED)**    | `cleanBib.csv`: table of author first names, titles, and .bib keys                                                            |\n",
    "| `.aux` file (OPTIONAL)| `predictions.csv`: table of author first names, estimated gender classification, and confidence                                   |\n",
    "| `.tex` file (OPTIONAL) | `race_gender_citations.pdf`: heat map of your citations broken down by probabilistic gender and race estimations\n",
    "|                       | `yourTexFile_gendercolor.tex`: your `.tex` file modified to compile .pdf with in-line citations colored-coded by gender pairs |\n",
    "\n",
    "## 1. Import functions\n",
    "\n",
    "Upload your `.bib` file(s) and _optionally_ an `.aux` file generated from compiling your LaTeX manuscript and your `.tex` file\n",
    "\n",
    "![upload button](img/upload.png)\n",
    "\n",
    "![confirm upload button](img/confirmUpload.png)\n",
    "\n",
    "Then, run the code block below. (click to select the block and then press Ctrl+Enter; or click the block and press the Run button in the top menubar)"
   ]
  },
  {
   "cell_type": "code",
   "execution_count": 5,
   "metadata": {
    "kernel": "Python 3"
   },
   "outputs": [
    {
     "name": "stdout",
     "output_type": "stream",
     "text": [
      "No optional .tex file found.\n"
     ]
    }
   ],
   "source": [
    "import glob\n",
    "from habanero import Crossref\n",
    "import sys\n",
    "import os\n",
    "from pathlib import Path\n",
    "wd = Path(os.getcwd())\n",
    "sys.path.insert(1, f'{wd.absolute()}/utils')\n",
    "from preprocessing import *\n",
    "from ethnicolr import pred_fl_reg_name\n",
    "import tensorflow as tf\n",
    "import seaborn as sns\n",
    "\n",
    "cr = Crossref()\n",
    "homedir = '/Users/stisoj/Documents/dev/cleanBib/tests/immaculate/'\n",
    "bib_files = glob.glob(homedir + '*.bib')\n",
    "paper_aux_file = glob.glob(homedir + '*.aux')\n",
    "paper_bib_file = 'library_paper.bib'\n",
    "try:\n",
    "    tex_file = glob.glob(homedir + \"*.tex\")[0]\n",
    "except:\n",
    "    print('No optional .tex file found.')"
   ]
  },
  {
   "cell_type": "markdown",
   "metadata": {
    "kernel": "SoS"
   },
   "source": [
    "### 2. Define the _first_ and _last_ author of your paper.\n",
    "\n",
    "For example: \n",
    "```\n",
    "yourFirstAuthor = 'Teich, Erin G.'\n",
    "yourLastAuthor = 'Bassett, Danielle S.'\n",
    "```\n",
    "\n",
    "And optionally, define any co-first or co-last author(s), making sure to keep the square brackets to define a list.\n",
    "\n",
    "For example:\n",
    "```\n",
    "optionalEqualContributors = ['Dworkin, Jordan', 'Stiso, Jennifer']\n",
    "```\n",
    "\n",
    "or \n",
    "\n",
    "```\n",
    "optionalEqualContributors = ['Dworkin, Jordan']\n",
    "```\n",
    "\n",
    "If you are analyzing published papers' reference lists from Web of Science, change the variable checkingPublishedArticle to True:\n",
    "```\n",
    "checkingPublishedArticle = True\n",
    "```\n",
    "\n",
    "Then, run the code block below. (click to select the block and then press Ctrl+Enter; or click the block and press the Run button in the top menubar)"
   ]
  },
  {
   "cell_type": "code",
   "execution_count": 14,
   "metadata": {
    "kernel": "Python 3"
   },
   "outputs": [
    {
     "name": "stdout",
     "output_type": "stream",
     "text": [
      "1: buzsaki2013memory\n",
      "2: Lundine2019\t\t  <--  ***NAME MISSING OR POSSIBLY INCOMPLETE***\n",
      "3: zurn2020network\n",
      "4: moralia2005\n",
      "5: bassett2022curious\n",
      "6: fake2022  <-- self-citation\n",
      "7: jurafsky2018n\t\t  <--  ***NAME MISSING OR POSSIBLY INCOMPLETE***\n",
      "8: mitchell2013gendered\n",
      "9: chatterjee2021gender\n",
      "10: fulvio2021imbalance\n",
      "11: ethnicolr2022black\n",
      "12: ethnicolr2022hispanic\n",
      "13: ethnicolr2022asian\n",
      "14: ethnicolr2022white\n"
     ]
    }
   ],
   "source": [
    "yourFirstAuthor = 'Stiso, Jennifer'\n",
    "yourLastAuthor = 'Zhou, Dale'\n",
    "optionalEqualContributors = ['LastName, FirstName OptionalMiddleInitial', 'LastName, FirstName OptionalMiddleInitial']\n",
    "checkingPublishedArticle = False\n",
    "\n",
    "if paper_aux_file:\n",
    "    find_unused_cites(paper_aux_file)\n",
    "\n",
    "bib_data = get_bib_data(bib_files[0])\n",
    "if checkingPublishedArticle:\n",
    "    get_names_published(homedir, bib_data, cr)\n",
    "else:\n",
    "    # find and print duplicates\n",
    "    bib_data = get_duplicates(bib_data, bib_files[0])\n",
    "    # get names, remove CDS, find self cites\n",
    "    get_names(homedir, bib_data, yourFirstAuthor, yourLastAuthor, optionalEqualContributors, cr)"
   ]
  },
  {
   "cell_type": "code",
   "execution_count": 7,
   "metadata": {
    "kernel": "R"
   },
   "outputs": [
    {
     "name": "stdout",
     "output_type": "stream",
     "text": [
      "STOP: Please remove self-citations. Then, re-run step 2. Here are some suggestions to check for with the following citation keys in your .bib file: \n",
      "['fake2022']\n",
      "STOP: Please revise incomplete full first names or empty cells. Then, re-run step 2. Here are some suggestions to check for with the following citation keys in your .bib file: \n",
      "['Lundine2019', 'jurafsky2018n']\n",
      "Only continue if you've run steps 2, and this code no longer returns errors.\n"
     ]
    }
   ],
   "source": [
    "bib_check(homedir)"
   ]
  },
  {
   "cell_type": "markdown",
   "metadata": {
    "collapsed": false
   },
   "source": [
    "## 3. Estimate gender and race of authors from cleaned bibliography\n",
    "\n",
    "### Checkpoint for cleaned bibliography and using Gender API to estimate genders and race by names\n",
    "After registering for a [gender-api](https://gender-api.com/) (free account available), use your 500 free monthly search credits by __pasting your API key in the code for the line indicated below__ (replace only YOUR ACCOUNT KEY HERE):\n",
    "\n",
    "```genderAPI_key <- '&key=YOUR ACCOUNT KEY HERE'```\n",
    "\n",
    "[You can find your key in your account's profile page.](https://gender-api.com/en/account/overview#my-api-key)\n",
    "\n",
    "__NOTE__: Please edit your .bib file using information printed by the code and provided in cleanedBib.csv. Edit directly within the Binder environment by clicking the .bib file (as shown below), making modifications, and saving the file (as shown below).\n",
    "\n",
    "![open button](img/openBib.png)\n",
    "\n",
    "![save button](img/saveBib.png)\n",
    "\n",
    "Common issues include:\n",
    "\n",
    "* Bibliography entry did not include a last author because the author list was truncated by \"and Others\" or \"et al.\"\n",
    "* Some older journals articles only provide first initial and not full first names, in which case you will need to go digging via Google to identify that person.\n",
    "* In rare cases where the author cannot be identified even after searching by hand, replace the first name with \"UNKNOWNNAMES\" so that the classifier will estimate the gender as unknown.\n",
    "\n",
    "__NOTE__: your free account has 500 queries per month. This box contains the code that will use your limited API credits/queries if it runs without error. Re-running all code repeatedly will repeatedly use these credits.\n",
    "\n",
    "Then, run the code blocks below. (click to select the block and then press Ctrl+Enter; or click the block and press the Run button in the top menubar)"
   ]
  },
  {
   "cell_type": "code",
   "execution_count": 27,
   "metadata": {
    "kernel": "R"
   },
   "outputs": [
    {
     "name": "stdout",
     "output_type": "stream",
     "text": [
      "Remaining credits: 262\n",
      "This should use (at most) 25 credits, saving you approx 1 credit(s) by storing queries.\n"
     ]
    }
   ],
   "source": [
    "genderAPI_key = '&key='\n",
    "\n",
    "# The following saves the api key to a txt file just to be reloaded by the next cell\n",
    "with open(\"genderAPIkey.txt\", 'w') as f:\n",
    "    f.write(genderAPI_key)\n",
    "\n",
    "# Check your credit balance\n",
    "authors_full_list = pd.read_csv(homedir + 'cleanedBib.csv')\n",
    "url = \"https://gender-api.com/get-stats?key=\" + genderAPI_key\n",
    "response = urlopen(url)\n",
    "decoded = response.read().decode('utf-8')\n",
    "decoded_json = json.loads(decoded)\n",
    "print('Remaining credits: %s'%decoded_json[\"remaining_requests\"])\n",
    "print('This should use (at most) %d credits, '%(authors_full_list.FA.nunique() + authors_full_list.LA.nunique()) + \\\n",
    "        'saving you approx %d'%((authors_full_list.FA.count() + authors_full_list.LA.count())-\n",
    "                            (authors_full_list.FA.nunique() + authors_full_list.LA.nunique())) + \\\n",
    "      ' credit(s) by storing queries.')"
   ]
  },
  {
   "cell_type": "markdown",
   "metadata": {
    "kernel": "SoS"
   },
   "source": [
    "## 4. Describe the proportions of genders in your reference list and compare it to published base rates in neuroscience.\n",
    "\n",
    "__NOTE__: your free GenderAPI account has 500 queries per month. This box contains the code that will use your limited API credits/queries if it runs without error. Re-running all code repeatedly will repeatedly use these credits.\n",
    "\n",
    "Run the code blocks below. (click to select the block and then press Ctrl+Enter; or click the block and press the Run button in the top menubar)"
   ]
  },
  {
   "cell_type": "code",
   "execution_count": 18,
   "metadata": {
    "kernel": "Python 3"
   },
   "outputs": [
    {
     "name": "stdout",
     "output_type": "stream",
     "text": [
      "first author is Jennifer Stiso \n",
      "last author is Dale Zhou \n",
      "we don't count these, but check the predictions file to ensure your names did not slip through!\n",
      "looping through your references, predicting gender and race\n"
     ]
    },
    {
     "name": "stderr",
     "output_type": "stream",
     "text": [
      "  0%|          | 0/23 [00:00<?, ?it/s]/Users/stisoj/Documents/dev/cleanBib/utils/queries.py:173: VisibleDeprecationWarning: Creating an ndarray from ragged nested sequences (which is a list-or-tuple of lists-or-tuples-or ndarrays with different lengths or shapes) is deprecated. If you meant to do this, you must specify 'dtype=object' when creating the ndarray.\n",
      "  fa_data = np.array(\n",
      "/Users/stisoj/Documents/dev/cleanBib/utils/queries.py:176: FutureWarning: The frame.append method is deprecated and will be removed from pandas in a future version. Use pandas.concat instead.\n",
      "  paper_df = paper_df.append(pd.DataFrame(fa_data, columns=columns), ignore_index=True)\n",
      "/Users/stisoj/Documents/dev/cleanBib/utils/queries.py:177: VisibleDeprecationWarning: Creating an ndarray from ragged nested sequences (which is a list-or-tuple of lists-or-tuples-or ndarrays with different lengths or shapes) is deprecated. If you meant to do this, you must specify 'dtype=object' when creating the ndarray.\n",
      "  la_data = np.array(\n",
      "/Users/stisoj/Documents/dev/cleanBib/utils/queries.py:180: FutureWarning: The frame.append method is deprecated and will be removed from pandas in a future version. Use pandas.concat instead.\n",
      "  paper_df = paper_df.append(pd.DataFrame(la_data, columns=columns), ignore_index=True)\n",
      "  4%|▍         | 1/23 [00:01<00:24,  1.11s/it]/Users/stisoj/Documents/dev/cleanBib/utils/queries.py:173: VisibleDeprecationWarning: Creating an ndarray from ragged nested sequences (which is a list-or-tuple of lists-or-tuples-or ndarrays with different lengths or shapes) is deprecated. If you meant to do this, you must specify 'dtype=object' when creating the ndarray.\n",
      "  fa_data = np.array(\n",
      "/Users/stisoj/Documents/dev/cleanBib/utils/queries.py:176: FutureWarning: The frame.append method is deprecated and will be removed from pandas in a future version. Use pandas.concat instead.\n",
      "  paper_df = paper_df.append(pd.DataFrame(fa_data, columns=columns), ignore_index=True)\n",
      "/Users/stisoj/Documents/dev/cleanBib/utils/queries.py:177: VisibleDeprecationWarning: Creating an ndarray from ragged nested sequences (which is a list-or-tuple of lists-or-tuples-or ndarrays with different lengths or shapes) is deprecated. If you meant to do this, you must specify 'dtype=object' when creating the ndarray.\n",
      "  la_data = np.array(\n",
      "/Users/stisoj/Documents/dev/cleanBib/utils/queries.py:180: FutureWarning: The frame.append method is deprecated and will be removed from pandas in a future version. Use pandas.concat instead.\n",
      "  paper_df = paper_df.append(pd.DataFrame(la_data, columns=columns), ignore_index=True)\n",
      "  9%|▊         | 2/23 [00:01<00:19,  1.06it/s]/Users/stisoj/Documents/dev/cleanBib/utils/queries.py:173: VisibleDeprecationWarning: Creating an ndarray from ragged nested sequences (which is a list-or-tuple of lists-or-tuples-or ndarrays with different lengths or shapes) is deprecated. If you meant to do this, you must specify 'dtype=object' when creating the ndarray.\n",
      "  fa_data = np.array(\n",
      "/Users/stisoj/Documents/dev/cleanBib/utils/queries.py:176: FutureWarning: The frame.append method is deprecated and will be removed from pandas in a future version. Use pandas.concat instead.\n",
      "  paper_df = paper_df.append(pd.DataFrame(fa_data, columns=columns), ignore_index=True)\n",
      "/Users/stisoj/Documents/dev/cleanBib/utils/queries.py:177: VisibleDeprecationWarning: Creating an ndarray from ragged nested sequences (which is a list-or-tuple of lists-or-tuples-or ndarrays with different lengths or shapes) is deprecated. If you meant to do this, you must specify 'dtype=object' when creating the ndarray.\n",
      "  la_data = np.array(\n",
      "/Users/stisoj/Documents/dev/cleanBib/utils/queries.py:180: FutureWarning: The frame.append method is deprecated and will be removed from pandas in a future version. Use pandas.concat instead.\n",
      "  paper_df = paper_df.append(pd.DataFrame(la_data, columns=columns), ignore_index=True)\n",
      " 13%|█▎        | 3/23 [00:02<00:17,  1.13it/s]/Users/stisoj/Documents/dev/cleanBib/utils/queries.py:173: VisibleDeprecationWarning: Creating an ndarray from ragged nested sequences (which is a list-or-tuple of lists-or-tuples-or ndarrays with different lengths or shapes) is deprecated. If you meant to do this, you must specify 'dtype=object' when creating the ndarray.\n",
      "  fa_data = np.array(\n",
      "/Users/stisoj/Documents/dev/cleanBib/utils/queries.py:176: FutureWarning: The frame.append method is deprecated and will be removed from pandas in a future version. Use pandas.concat instead.\n",
      "  paper_df = paper_df.append(pd.DataFrame(fa_data, columns=columns), ignore_index=True)\n",
      "/Users/stisoj/Documents/dev/cleanBib/utils/queries.py:177: VisibleDeprecationWarning: Creating an ndarray from ragged nested sequences (which is a list-or-tuple of lists-or-tuples-or ndarrays with different lengths or shapes) is deprecated. If you meant to do this, you must specify 'dtype=object' when creating the ndarray.\n",
      "  la_data = np.array(\n",
      "/Users/stisoj/Documents/dev/cleanBib/utils/queries.py:180: FutureWarning: The frame.append method is deprecated and will be removed from pandas in a future version. Use pandas.concat instead.\n",
      "  paper_df = paper_df.append(pd.DataFrame(la_data, columns=columns), ignore_index=True)\n",
      " 17%|█▋        | 4/23 [00:03<00:16,  1.17it/s]/Users/stisoj/Documents/dev/cleanBib/utils/queries.py:173: VisibleDeprecationWarning: Creating an ndarray from ragged nested sequences (which is a list-or-tuple of lists-or-tuples-or ndarrays with different lengths or shapes) is deprecated. If you meant to do this, you must specify 'dtype=object' when creating the ndarray.\n",
      "  fa_data = np.array(\n",
      "/Users/stisoj/Documents/dev/cleanBib/utils/queries.py:176: FutureWarning: The frame.append method is deprecated and will be removed from pandas in a future version. Use pandas.concat instead.\n",
      "  paper_df = paper_df.append(pd.DataFrame(fa_data, columns=columns), ignore_index=True)\n",
      "/Users/stisoj/Documents/dev/cleanBib/utils/queries.py:177: VisibleDeprecationWarning: Creating an ndarray from ragged nested sequences (which is a list-or-tuple of lists-or-tuples-or ndarrays with different lengths or shapes) is deprecated. If you meant to do this, you must specify 'dtype=object' when creating the ndarray.\n",
      "  la_data = np.array(\n",
      "/Users/stisoj/Documents/dev/cleanBib/utils/queries.py:180: FutureWarning: The frame.append method is deprecated and will be removed from pandas in a future version. Use pandas.concat instead.\n",
      "  paper_df = paper_df.append(pd.DataFrame(la_data, columns=columns), ignore_index=True)\n",
      " 22%|██▏       | 5/23 [00:03<00:12,  1.44it/s]/Users/stisoj/Documents/dev/cleanBib/utils/queries.py:173: VisibleDeprecationWarning: Creating an ndarray from ragged nested sequences (which is a list-or-tuple of lists-or-tuples-or ndarrays with different lengths or shapes) is deprecated. If you meant to do this, you must specify 'dtype=object' when creating the ndarray.\n",
      "  fa_data = np.array(\n",
      "/Users/stisoj/Documents/dev/cleanBib/utils/queries.py:176: FutureWarning: The frame.append method is deprecated and will be removed from pandas in a future version. Use pandas.concat instead.\n",
      "  paper_df = paper_df.append(pd.DataFrame(fa_data, columns=columns), ignore_index=True)\n",
      "/Users/stisoj/Documents/dev/cleanBib/utils/queries.py:177: VisibleDeprecationWarning: Creating an ndarray from ragged nested sequences (which is a list-or-tuple of lists-or-tuples-or ndarrays with different lengths or shapes) is deprecated. If you meant to do this, you must specify 'dtype=object' when creating the ndarray.\n",
      "  la_data = np.array(\n",
      "/Users/stisoj/Documents/dev/cleanBib/utils/queries.py:180: FutureWarning: The frame.append method is deprecated and will be removed from pandas in a future version. Use pandas.concat instead.\n",
      "  paper_df = paper_df.append(pd.DataFrame(la_data, columns=columns), ignore_index=True)\n",
      "/Users/stisoj/Documents/dev/cleanBib/utils/queries.py:173: VisibleDeprecationWarning: Creating an ndarray from ragged nested sequences (which is a list-or-tuple of lists-or-tuples-or ndarrays with different lengths or shapes) is deprecated. If you meant to do this, you must specify 'dtype=object' when creating the ndarray.\n",
      "  fa_data = np.array(\n",
      "/Users/stisoj/Documents/dev/cleanBib/utils/queries.py:176: FutureWarning: The frame.append method is deprecated and will be removed from pandas in a future version. Use pandas.concat instead.\n",
      "  paper_df = paper_df.append(pd.DataFrame(fa_data, columns=columns), ignore_index=True)\n",
      "/Users/stisoj/Documents/dev/cleanBib/utils/queries.py:177: VisibleDeprecationWarning: Creating an ndarray from ragged nested sequences (which is a list-or-tuple of lists-or-tuples-or ndarrays with different lengths or shapes) is deprecated. If you meant to do this, you must specify 'dtype=object' when creating the ndarray.\n",
      "  la_data = np.array(\n",
      "/Users/stisoj/Documents/dev/cleanBib/utils/queries.py:180: FutureWarning: The frame.append method is deprecated and will be removed from pandas in a future version. Use pandas.concat instead.\n",
      "  paper_df = paper_df.append(pd.DataFrame(la_data, columns=columns), ignore_index=True)\n",
      " 35%|███▍      | 8/23 [00:04<00:06,  2.30it/s]/Users/stisoj/Documents/dev/cleanBib/utils/queries.py:173: VisibleDeprecationWarning: Creating an ndarray from ragged nested sequences (which is a list-or-tuple of lists-or-tuples-or ndarrays with different lengths or shapes) is deprecated. If you meant to do this, you must specify 'dtype=object' when creating the ndarray.\n",
      "  fa_data = np.array(\n",
      "/Users/stisoj/Documents/dev/cleanBib/utils/queries.py:176: FutureWarning: The frame.append method is deprecated and will be removed from pandas in a future version. Use pandas.concat instead.\n",
      "  paper_df = paper_df.append(pd.DataFrame(fa_data, columns=columns), ignore_index=True)\n",
      "/Users/stisoj/Documents/dev/cleanBib/utils/queries.py:177: VisibleDeprecationWarning: Creating an ndarray from ragged nested sequences (which is a list-or-tuple of lists-or-tuples-or ndarrays with different lengths or shapes) is deprecated. If you meant to do this, you must specify 'dtype=object' when creating the ndarray.\n",
      "  la_data = np.array(\n",
      "/Users/stisoj/Documents/dev/cleanBib/utils/queries.py:180: FutureWarning: The frame.append method is deprecated and will be removed from pandas in a future version. Use pandas.concat instead.\n",
      "  paper_df = paper_df.append(pd.DataFrame(la_data, columns=columns), ignore_index=True)\n",
      " 39%|███▉      | 9/23 [00:05<00:06,  2.31it/s]/Users/stisoj/Documents/dev/cleanBib/utils/queries.py:173: VisibleDeprecationWarning: Creating an ndarray from ragged nested sequences (which is a list-or-tuple of lists-or-tuples-or ndarrays with different lengths or shapes) is deprecated. If you meant to do this, you must specify 'dtype=object' when creating the ndarray.\n",
      "  fa_data = np.array(\n",
      "/Users/stisoj/Documents/dev/cleanBib/utils/queries.py:176: FutureWarning: The frame.append method is deprecated and will be removed from pandas in a future version. Use pandas.concat instead.\n",
      "  paper_df = paper_df.append(pd.DataFrame(fa_data, columns=columns), ignore_index=True)\n",
      "/Users/stisoj/Documents/dev/cleanBib/utils/queries.py:177: VisibleDeprecationWarning: Creating an ndarray from ragged nested sequences (which is a list-or-tuple of lists-or-tuples-or ndarrays with different lengths or shapes) is deprecated. If you meant to do this, you must specify 'dtype=object' when creating the ndarray.\n",
      "  la_data = np.array(\n",
      "/Users/stisoj/Documents/dev/cleanBib/utils/queries.py:180: FutureWarning: The frame.append method is deprecated and will be removed from pandas in a future version. Use pandas.concat instead.\n",
      "  paper_df = paper_df.append(pd.DataFrame(la_data, columns=columns), ignore_index=True)\n",
      " 43%|████▎     | 10/23 [00:06<00:06,  1.91it/s]/Users/stisoj/Documents/dev/cleanBib/utils/queries.py:173: VisibleDeprecationWarning: Creating an ndarray from ragged nested sequences (which is a list-or-tuple of lists-or-tuples-or ndarrays with different lengths or shapes) is deprecated. If you meant to do this, you must specify 'dtype=object' when creating the ndarray.\n",
      "  fa_data = np.array(\n",
      "/Users/stisoj/Documents/dev/cleanBib/utils/queries.py:176: FutureWarning: The frame.append method is deprecated and will be removed from pandas in a future version. Use pandas.concat instead.\n",
      "  paper_df = paper_df.append(pd.DataFrame(fa_data, columns=columns), ignore_index=True)\n",
      "/Users/stisoj/Documents/dev/cleanBib/utils/queries.py:177: VisibleDeprecationWarning: Creating an ndarray from ragged nested sequences (which is a list-or-tuple of lists-or-tuples-or ndarrays with different lengths or shapes) is deprecated. If you meant to do this, you must specify 'dtype=object' when creating the ndarray.\n",
      "  la_data = np.array(\n",
      "/Users/stisoj/Documents/dev/cleanBib/utils/queries.py:180: FutureWarning: The frame.append method is deprecated and will be removed from pandas in a future version. Use pandas.concat instead.\n",
      "  paper_df = paper_df.append(pd.DataFrame(la_data, columns=columns), ignore_index=True)\n",
      " 48%|████▊     | 11/23 [00:06<00:07,  1.68it/s]/Users/stisoj/Documents/dev/cleanBib/utils/queries.py:173: VisibleDeprecationWarning: Creating an ndarray from ragged nested sequences (which is a list-or-tuple of lists-or-tuples-or ndarrays with different lengths or shapes) is deprecated. If you meant to do this, you must specify 'dtype=object' when creating the ndarray.\n",
      "  fa_data = np.array(\n",
      "/Users/stisoj/Documents/dev/cleanBib/utils/queries.py:176: FutureWarning: The frame.append method is deprecated and will be removed from pandas in a future version. Use pandas.concat instead.\n",
      "  paper_df = paper_df.append(pd.DataFrame(fa_data, columns=columns), ignore_index=True)\n",
      "/Users/stisoj/Documents/dev/cleanBib/utils/queries.py:177: VisibleDeprecationWarning: Creating an ndarray from ragged nested sequences (which is a list-or-tuple of lists-or-tuples-or ndarrays with different lengths or shapes) is deprecated. If you meant to do this, you must specify 'dtype=object' when creating the ndarray.\n",
      "  la_data = np.array(\n",
      "/Users/stisoj/Documents/dev/cleanBib/utils/queries.py:180: FutureWarning: The frame.append method is deprecated and will be removed from pandas in a future version. Use pandas.concat instead.\n",
      "  paper_df = paper_df.append(pd.DataFrame(la_data, columns=columns), ignore_index=True)\n",
      " 52%|█████▏    | 12/23 [00:07<00:07,  1.54it/s]/Users/stisoj/Documents/dev/cleanBib/utils/queries.py:173: VisibleDeprecationWarning: Creating an ndarray from ragged nested sequences (which is a list-or-tuple of lists-or-tuples-or ndarrays with different lengths or shapes) is deprecated. If you meant to do this, you must specify 'dtype=object' when creating the ndarray.\n",
      "  fa_data = np.array(\n",
      "/Users/stisoj/Documents/dev/cleanBib/utils/queries.py:176: FutureWarning: The frame.append method is deprecated and will be removed from pandas in a future version. Use pandas.concat instead.\n",
      "  paper_df = paper_df.append(pd.DataFrame(fa_data, columns=columns), ignore_index=True)\n",
      "/Users/stisoj/Documents/dev/cleanBib/utils/queries.py:177: VisibleDeprecationWarning: Creating an ndarray from ragged nested sequences (which is a list-or-tuple of lists-or-tuples-or ndarrays with different lengths or shapes) is deprecated. If you meant to do this, you must specify 'dtype=object' when creating the ndarray.\n",
      "  la_data = np.array(\n",
      "/Users/stisoj/Documents/dev/cleanBib/utils/queries.py:180: FutureWarning: The frame.append method is deprecated and will be removed from pandas in a future version. Use pandas.concat instead.\n",
      "  paper_df = paper_df.append(pd.DataFrame(la_data, columns=columns), ignore_index=True)\n",
      " 57%|█████▋    | 13/23 [00:08<00:05,  1.72it/s]/Users/stisoj/Documents/dev/cleanBib/utils/queries.py:173: VisibleDeprecationWarning: Creating an ndarray from ragged nested sequences (which is a list-or-tuple of lists-or-tuples-or ndarrays with different lengths or shapes) is deprecated. If you meant to do this, you must specify 'dtype=object' when creating the ndarray.\n",
      "  fa_data = np.array(\n",
      "/Users/stisoj/Documents/dev/cleanBib/utils/queries.py:176: FutureWarning: The frame.append method is deprecated and will be removed from pandas in a future version. Use pandas.concat instead.\n",
      "  paper_df = paper_df.append(pd.DataFrame(fa_data, columns=columns), ignore_index=True)\n",
      "/Users/stisoj/Documents/dev/cleanBib/utils/queries.py:177: VisibleDeprecationWarning: Creating an ndarray from ragged nested sequences (which is a list-or-tuple of lists-or-tuples-or ndarrays with different lengths or shapes) is deprecated. If you meant to do this, you must specify 'dtype=object' when creating the ndarray.\n",
      "  la_data = np.array(\n",
      "/Users/stisoj/Documents/dev/cleanBib/utils/queries.py:180: FutureWarning: The frame.append method is deprecated and will be removed from pandas in a future version. Use pandas.concat instead.\n",
      "  paper_df = paper_df.append(pd.DataFrame(la_data, columns=columns), ignore_index=True)\n",
      " 65%|██████▌   | 15/23 [00:08<00:04,  1.98it/s]/Users/stisoj/Documents/dev/cleanBib/utils/queries.py:173: VisibleDeprecationWarning: Creating an ndarray from ragged nested sequences (which is a list-or-tuple of lists-or-tuples-or ndarrays with different lengths or shapes) is deprecated. If you meant to do this, you must specify 'dtype=object' when creating the ndarray.\n",
      "  fa_data = np.array(\n",
      "/Users/stisoj/Documents/dev/cleanBib/utils/queries.py:176: FutureWarning: The frame.append method is deprecated and will be removed from pandas in a future version. Use pandas.concat instead.\n",
      "  paper_df = paper_df.append(pd.DataFrame(fa_data, columns=columns), ignore_index=True)\n",
      "/Users/stisoj/Documents/dev/cleanBib/utils/queries.py:177: VisibleDeprecationWarning: Creating an ndarray from ragged nested sequences (which is a list-or-tuple of lists-or-tuples-or ndarrays with different lengths or shapes) is deprecated. If you meant to do this, you must specify 'dtype=object' when creating the ndarray.\n",
      "  la_data = np.array(\n",
      "/Users/stisoj/Documents/dev/cleanBib/utils/queries.py:180: FutureWarning: The frame.append method is deprecated and will be removed from pandas in a future version. Use pandas.concat instead.\n",
      "  paper_df = paper_df.append(pd.DataFrame(la_data, columns=columns), ignore_index=True)\n",
      " 70%|██████▉   | 16/23 [00:09<00:04,  1.70it/s]/Users/stisoj/Documents/dev/cleanBib/utils/queries.py:173: VisibleDeprecationWarning: Creating an ndarray from ragged nested sequences (which is a list-or-tuple of lists-or-tuples-or ndarrays with different lengths or shapes) is deprecated. If you meant to do this, you must specify 'dtype=object' when creating the ndarray.\n",
      "  fa_data = np.array(\n",
      "/Users/stisoj/Documents/dev/cleanBib/utils/queries.py:176: FutureWarning: The frame.append method is deprecated and will be removed from pandas in a future version. Use pandas.concat instead.\n",
      "  paper_df = paper_df.append(pd.DataFrame(fa_data, columns=columns), ignore_index=True)\n",
      "/Users/stisoj/Documents/dev/cleanBib/utils/queries.py:177: VisibleDeprecationWarning: Creating an ndarray from ragged nested sequences (which is a list-or-tuple of lists-or-tuples-or ndarrays with different lengths or shapes) is deprecated. If you meant to do this, you must specify 'dtype=object' when creating the ndarray.\n",
      "  la_data = np.array(\n",
      "/Users/stisoj/Documents/dev/cleanBib/utils/queries.py:180: FutureWarning: The frame.append method is deprecated and will be removed from pandas in a future version. Use pandas.concat instead.\n",
      "  paper_df = paper_df.append(pd.DataFrame(la_data, columns=columns), ignore_index=True)\n",
      " 74%|███████▍  | 17/23 [00:10<00:03,  1.82it/s]/Users/stisoj/Documents/dev/cleanBib/utils/queries.py:173: VisibleDeprecationWarning: Creating an ndarray from ragged nested sequences (which is a list-or-tuple of lists-or-tuples-or ndarrays with different lengths or shapes) is deprecated. If you meant to do this, you must specify 'dtype=object' when creating the ndarray.\n",
      "  fa_data = np.array(\n",
      "/Users/stisoj/Documents/dev/cleanBib/utils/queries.py:176: FutureWarning: The frame.append method is deprecated and will be removed from pandas in a future version. Use pandas.concat instead.\n",
      "  paper_df = paper_df.append(pd.DataFrame(fa_data, columns=columns), ignore_index=True)\n",
      "/Users/stisoj/Documents/dev/cleanBib/utils/queries.py:177: VisibleDeprecationWarning: Creating an ndarray from ragged nested sequences (which is a list-or-tuple of lists-or-tuples-or ndarrays with different lengths or shapes) is deprecated. If you meant to do this, you must specify 'dtype=object' when creating the ndarray.\n",
      "  la_data = np.array(\n",
      "/Users/stisoj/Documents/dev/cleanBib/utils/queries.py:180: FutureWarning: The frame.append method is deprecated and will be removed from pandas in a future version. Use pandas.concat instead.\n",
      "  paper_df = paper_df.append(pd.DataFrame(la_data, columns=columns), ignore_index=True)\n",
      " 78%|███████▊  | 18/23 [00:10<00:03,  1.62it/s]/Users/stisoj/Documents/dev/cleanBib/utils/queries.py:173: VisibleDeprecationWarning: Creating an ndarray from ragged nested sequences (which is a list-or-tuple of lists-or-tuples-or ndarrays with different lengths or shapes) is deprecated. If you meant to do this, you must specify 'dtype=object' when creating the ndarray.\n",
      "  fa_data = np.array(\n",
      "/Users/stisoj/Documents/dev/cleanBib/utils/queries.py:176: FutureWarning: The frame.append method is deprecated and will be removed from pandas in a future version. Use pandas.concat instead.\n",
      "  paper_df = paper_df.append(pd.DataFrame(fa_data, columns=columns), ignore_index=True)\n",
      "/Users/stisoj/Documents/dev/cleanBib/utils/queries.py:177: VisibleDeprecationWarning: Creating an ndarray from ragged nested sequences (which is a list-or-tuple of lists-or-tuples-or ndarrays with different lengths or shapes) is deprecated. If you meant to do this, you must specify 'dtype=object' when creating the ndarray.\n",
      "  la_data = np.array(\n",
      "/Users/stisoj/Documents/dev/cleanBib/utils/queries.py:180: FutureWarning: The frame.append method is deprecated and will be removed from pandas in a future version. Use pandas.concat instead.\n",
      "  paper_df = paper_df.append(pd.DataFrame(la_data, columns=columns), ignore_index=True)\n",
      " 83%|████████▎ | 19/23 [00:11<00:02,  1.50it/s]/Users/stisoj/Documents/dev/cleanBib/utils/queries.py:173: VisibleDeprecationWarning: Creating an ndarray from ragged nested sequences (which is a list-or-tuple of lists-or-tuples-or ndarrays with different lengths or shapes) is deprecated. If you meant to do this, you must specify 'dtype=object' when creating the ndarray.\n",
      "  fa_data = np.array(\n",
      "/Users/stisoj/Documents/dev/cleanBib/utils/queries.py:176: FutureWarning: The frame.append method is deprecated and will be removed from pandas in a future version. Use pandas.concat instead.\n",
      "  paper_df = paper_df.append(pd.DataFrame(fa_data, columns=columns), ignore_index=True)\n",
      "/Users/stisoj/Documents/dev/cleanBib/utils/queries.py:177: VisibleDeprecationWarning: Creating an ndarray from ragged nested sequences (which is a list-or-tuple of lists-or-tuples-or ndarrays with different lengths or shapes) is deprecated. If you meant to do this, you must specify 'dtype=object' when creating the ndarray.\n",
      "  la_data = np.array(\n",
      "/Users/stisoj/Documents/dev/cleanBib/utils/queries.py:180: FutureWarning: The frame.append method is deprecated and will be removed from pandas in a future version. Use pandas.concat instead.\n",
      "  paper_df = paper_df.append(pd.DataFrame(la_data, columns=columns), ignore_index=True)\n",
      " 87%|████████▋ | 20/23 [00:12<00:02,  1.41it/s]/Users/stisoj/Documents/dev/cleanBib/utils/queries.py:173: VisibleDeprecationWarning: Creating an ndarray from ragged nested sequences (which is a list-or-tuple of lists-or-tuples-or ndarrays with different lengths or shapes) is deprecated. If you meant to do this, you must specify 'dtype=object' when creating the ndarray.\n",
      "  fa_data = np.array(\n",
      "/Users/stisoj/Documents/dev/cleanBib/utils/queries.py:176: FutureWarning: The frame.append method is deprecated and will be removed from pandas in a future version. Use pandas.concat instead.\n",
      "  paper_df = paper_df.append(pd.DataFrame(fa_data, columns=columns), ignore_index=True)\n",
      "/Users/stisoj/Documents/dev/cleanBib/utils/queries.py:177: VisibleDeprecationWarning: Creating an ndarray from ragged nested sequences (which is a list-or-tuple of lists-or-tuples-or ndarrays with different lengths or shapes) is deprecated. If you meant to do this, you must specify 'dtype=object' when creating the ndarray.\n",
      "  la_data = np.array(\n",
      "/Users/stisoj/Documents/dev/cleanBib/utils/queries.py:180: FutureWarning: The frame.append method is deprecated and will be removed from pandas in a future version. Use pandas.concat instead.\n",
      "  paper_df = paper_df.append(pd.DataFrame(la_data, columns=columns), ignore_index=True)\n",
      " 91%|█████████▏| 21/23 [00:13<00:01,  1.35it/s]/Users/stisoj/Documents/dev/cleanBib/utils/queries.py:173: VisibleDeprecationWarning: Creating an ndarray from ragged nested sequences (which is a list-or-tuple of lists-or-tuples-or ndarrays with different lengths or shapes) is deprecated. If you meant to do this, you must specify 'dtype=object' when creating the ndarray.\n",
      "  fa_data = np.array(\n",
      "/Users/stisoj/Documents/dev/cleanBib/utils/queries.py:176: FutureWarning: The frame.append method is deprecated and will be removed from pandas in a future version. Use pandas.concat instead.\n",
      "  paper_df = paper_df.append(pd.DataFrame(fa_data, columns=columns), ignore_index=True)\n",
      "/Users/stisoj/Documents/dev/cleanBib/utils/queries.py:177: VisibleDeprecationWarning: Creating an ndarray from ragged nested sequences (which is a list-or-tuple of lists-or-tuples-or ndarrays with different lengths or shapes) is deprecated. If you meant to do this, you must specify 'dtype=object' when creating the ndarray.\n",
      "  la_data = np.array(\n",
      "/Users/stisoj/Documents/dev/cleanBib/utils/queries.py:180: FutureWarning: The frame.append method is deprecated and will be removed from pandas in a future version. Use pandas.concat instead.\n",
      "  paper_df = paper_df.append(pd.DataFrame(la_data, columns=columns), ignore_index=True)\n",
      " 96%|█████████▌| 22/23 [00:13<00:00,  1.52it/s]/Users/stisoj/Documents/dev/cleanBib/utils/queries.py:173: VisibleDeprecationWarning: Creating an ndarray from ragged nested sequences (which is a list-or-tuple of lists-or-tuples-or ndarrays with different lengths or shapes) is deprecated. If you meant to do this, you must specify 'dtype=object' when creating the ndarray.\n",
      "  fa_data = np.array(\n",
      "/Users/stisoj/Documents/dev/cleanBib/utils/queries.py:176: FutureWarning: The frame.append method is deprecated and will be removed from pandas in a future version. Use pandas.concat instead.\n",
      "  paper_df = paper_df.append(pd.DataFrame(fa_data, columns=columns), ignore_index=True)\n",
      "/Users/stisoj/Documents/dev/cleanBib/utils/queries.py:177: VisibleDeprecationWarning: Creating an ndarray from ragged nested sequences (which is a list-or-tuple of lists-or-tuples-or ndarrays with different lengths or shapes) is deprecated. If you meant to do this, you must specify 'dtype=object' when creating the ndarray.\n",
      "  la_data = np.array(\n",
      "/Users/stisoj/Documents/dev/cleanBib/utils/queries.py:180: FutureWarning: The frame.append method is deprecated and will be removed from pandas in a future version. Use pandas.concat instead.\n",
      "  paper_df = paper_df.append(pd.DataFrame(la_data, columns=columns), ignore_index=True)\n",
      "100%|██████████| 23/23 [00:14<00:00,  1.58it/s]"
     ]
    },
    {
     "name": "stdout",
     "output_type": "stream",
     "text": [
      "Queried gender api 35 times out of 46 entries\n",
      "Queried race/ethnicity api 36 times out of 46 entries\n"
     ]
    },
    {
     "name": "stderr",
     "output_type": "stream",
     "text": [
      "\n",
      "/Users/stisoj/opt/anaconda3/envs/cleanBib/lib/python3.10/site-packages/numpy/core/_methods.py:163: VisibleDeprecationWarning: Creating an ndarray from ragged nested sequences (which is a list-or-tuple of lists-or-tuples-or ndarrays with different lengths or shapes) is deprecated. If you meant to do this, you must specify 'dtype=object' when creating the ndarray.\n",
      "  arr = asanyarray(a)\n"
     ]
    }
   ],
   "source": [
    "f = open(\"genderAPIkey.txt\", \"r\")\n",
    "genderAPI_key = f.readline().replace('\\n', '')\n",
    "\n",
    "import tensorflow as tf\n",
    "os.environ['TF_CPP_MIN_LOG_LEVEL'] = '3'\n",
    "\n",
    "mm, wm, mw, ww, WW, aw, wa, aa, citation_matrix = get_pred_demos((yourFirstAuthor+' '+yourLastAuthor).replace(',',''), homedir, bib_data, genderAPI_key)\n",
    "statement, statementLatex = print_statements(mm, wm, mw, ww, WW, aw, wa, aa)"
   ]
  },
  {
   "cell_type": "markdown",
   "metadata": {
    "kernel": "Python 3"
   },
   "source": [
    "## 5. Print the Diversity Statement and visualize your results\n",
    "\n",
    "The example template can be copied and pasted into your manuscript. We have included it in our methods or references section. If you are using LaTeX, [the bibliography file can be found here](https://github.com/dalejn/cleanBib/blob/master/diversityStatement/).\n",
    "\n",
    "### Additional info about the neuroscience benchmark\n",
    "For the top 5 neuroscience journals (Nature Neuroscience, Neuron, Brain, Journal of Neuroscience, and Neuroimage), the expected gender proportions in reference lists as reported by [Dworkin et al.](https://www.biorxiv.org/content/10.1101/2020.01.03.894378v1.full.pdf) are 58.4% for man/man, 9.4% for man/woman, 25.5% for woman/man, and 6.7% for woman/woman. Expected proportions were calculated by randomly sampling papers from 28,505 articles in the 5 journals, estimating gender breakdowns using probabilistic name classification tools, and regressing for relevant article variables like publication date, journal, number of authors, review article or not, and first-/last-author seniority. See [Dworkin et al.](https://www.biorxiv.org/content/10.1101/2020.01.03.894378v1.full.pdf) for more details. \n",
    "\n",
    "Using a similar random draw model regressing for relevant variables, the expected race proportions in reference lists as reported by Bertolero et al. were 51.8% for white/white, 12.8% for white/author-of-color, 23.5% for author-of-color/white, and 11.9% for author-of-color/author-of-color. \n",
    "\n",
    "This box does NOT contain code that will use your limited API credits/queries.\n",
    "\n",
    "Run the code block below. (click to select the block and then press Ctrl+Enter; or click the block and press the Run button in the top menubar)"
   ]
  },
  {
   "cell_type": "code",
   "execution_count": null,
   "metadata": {
    "kernel": "Python 3"
   },
   "outputs": [],
   "source": [
    "print('Plain text template:')\n",
    "print(statement)\n",
    "print('\\n')\n",
    "print('LaTeX template:')\n",
    "print(statementLatex)\n",
    "\n",
    "cmap = sns.diverging_palette(220, 10, as_cmap=True)\n",
    "names = ['white_m','api_m','hispanic_m','black_m','white_w','api_w','hispanic_w','black_w']\n",
    "plt.close()\n",
    "sns.set(style='white')\n",
    "fig, axes = plt.subplots(ncols=2,nrows=1,figsize=(7.5,4))\n",
    "axes = axes.flatten()\n",
    "plt.sca(axes[0])\n",
    "heat = sns.heatmap(np.around((citation_matrix/citation_matrix.sum())*100,2),annot=True,ax=axes[0],annot_kws={\"size\": 8},cmap=cmap,vmax=1,vmin=0)\n",
    "axes[0].set_ylabel('first author',labelpad=0)  \n",
    "heat.set_yticklabels(names,rotation=0)\n",
    "axes[0].set_xlabel('last author',labelpad=1)  \n",
    "heat.set_xticklabels(names,rotation=90) \n",
    "heat.set_title('percentage of citations')  \n",
    "\n",
    "citation_matrix_sum = citation_matrix / np.sum(citation_matrix) \n",
    "\n",
    "expected = np.load('/%s/data/expected_matrix_florida.npy'%(homedir))\n",
    "expected = expected/np.sum(expected)\n",
    "\n",
    "percent_overunder = np.ceil( ((citation_matrix_sum - expected) / expected)*100)\n",
    "plt.sca(axes[1])\n",
    "heat = sns.heatmap(np.around(percent_overunder,2),annot=True,ax=axes[1],fmt='g',annot_kws={\"size\": 8},vmax=50,vmin=-50,cmap=cmap)\n",
    "axes[1].set_ylabel('',labelpad=0)  \n",
    "heat.set_yticklabels('')\n",
    "axes[1].set_xlabel('last author',labelpad=1)  \n",
    "heat.set_xticklabels(names,rotation=90) \n",
    "heat.set_title('percentage over/under-citations')\n",
    "plt.tight_layout()\n",
    "\n",
    "plt.savefig('/home/jovyan/race_gender_citations.pdf')\n",
    "\n",
    "\n",
    "paper_df.to_csv('/home/jovyan/predictions.csv')"
   ]
  },
  {
   "cell_type": "code",
   "execution_count": null,
   "metadata": {
    "kernel": "R"
   },
   "outputs": [],
   "source": [
    "# Plot a histogram #\n",
    "names = pd.read_csv('/home/jovyan/predictions.csv')\n",
    "total_citations = names.CitationKey.nunique()\n",
    "names.GendCat = names.GendCat.str.replace('female', 'W', regex=False)\n",
    "names.GendCat = names.GendCat.str.replace('male', 'M', regex=False)\n",
    "names.GendCat = names.GendCat.str.replace('unknown', 'U', regex=False)\n",
    "gend_cats = names['GendCat'].dropna().unique()  # get a vector of all the gender categories in your paper\n",
    "\n",
    "# Create a data frame that will be used to plot the histogram. This will have the gender category (e.g., WW, MM) in the first column and the percentage (e.g., number of WW citations divided by total number of citations * 100) in the second column #\n",
    "dat_for_plot = names.groupby('GendCat').size().reset_index()\n",
    "dat_for_plot.rename(columns={0:'count'}, inplace=True)\n",
    "dat_for_plot = dat_for_plot.assign(percentage=dat_for_plot['count']/total_citations*100)\n",
    "\n",
    "# Create a data frame with only the WW, MW, WM, MM categories and their base rates - to plot percent citations relative to benchmarks\n",
    "dat_for_baserate_plot = dat_for_plot.loc[(dat_for_plot.GendCat == 'WW') |\n",
    "                                         (dat_for_plot.GendCat == 'MW') |\n",
    "                                         (dat_for_plot.GendCat == 'WM') |\n",
    "                                         (dat_for_plot.GendCat == 'MM'),:]\n",
    "# MM,MW,WM,WW\n",
    "baserate = [58.4, 9.4, 25.5, 6.7]\n",
    "dat_for_baserate_plot['baserate'] = baserate\n",
    "dat_for_baserate_plot = dat_for_baserate_plot.assign(citation_rel_to_baserate=\n",
    "                                                     dat_for_baserate_plot.percentage - dat_for_baserate_plot.baserate\n",
    "                                                     )\n",
    "\n",
    "# plot\n",
    "plt.figure()\n",
    "sns.barplot(data=dat_for_plot, x='GendCat', y='count', order=np.flip(gend_cats))\n",
    "plt.xlabel('Predicted gender category')\n",
    "plt.ylabel('Number of papers')\n",
    "plt.tight_layout()\n",
    "\n",
    "plt.figure()\n",
    "sns.barplot(data=dat_for_baserate_plot, x='GendCat', y='citation_rel_to_baserate', order=['WW','WM','MW','MM'])\n",
    "plt.xlabel('Predicted gender category')\n",
    "plt.ylabel('% of citations relative to benchmarks')\n",
    "plt.tight_layout()"
   ]
  },
  {
   "cell_type": "markdown",
   "metadata": {
    "kernel": "SoS"
   },
   "source": [
    "### (OPTIONAL) Color-code your .tex file using the estimated gender classifications\n",
    "\n",
    "Running this code-block will optionally output your uploaded `.tex` file with color-coding for gender pair classifications. You can find the [example below's pre-print here.](https://www.biorxiv.org/content/10.1101/664250v1)\n",
    "\n",
    "![Color-coded .tex file, Eli Cornblath](img/texColors.png)"
   ]
  },
  {
   "cell_type": "code",
   "execution_count": null,
   "metadata": {
    "kernel": "Python 3"
   },
   "outputs": [],
   "source": [
    "cite_gender = pd.read_csv(homedir+'Authors.csv') # output of getReferenceGends.ipynb\n",
    "cite_gender.index = cite_gender.CitationKey\n",
    "cite_gender['Color'] = '' # what color to make each gender category\n",
    "colors = {'MM':'red','MW':'blue','WW':'green','WM':'magenta','UU':'black',\n",
    "'MU':'black','UM':'black','UW':'black','WU':'black'}\n",
    "for idx in cite_gender.index: # loop through each citation key and set color\n",
    "    cite_gender.loc[idx,'Color'] = colors[cite_gender.loc[idx,'GendCat']]\n",
    "cite_gender.loc[cite_gender.index[cite_gender.SelfCite=='Y'],'Color'] = 'black' # make self citations black\n",
    "\n",
    "fin = open(homedir+tex_file)\n",
    "texdoc=fin.readlines()\n",
    "with open(homedir+tex_file[:-4]+'_gendercolor.tex','w') as fout:\n",
    "    for i in range(len(texdoc)):\n",
    "        s = texdoc[i]\n",
    "        cite_instances = re.findall('\\\\\\\\cite\\{.*?\\}',s)\n",
    "        cite_keys = re.findall('\\\\\\\\cite\\{(.*?)\\}',s)\n",
    "        cite_keys = [x.split(',') for x in cite_keys]\n",
    "        cite_keys_sub = [['\\\\textcolor{' + cite_gender.loc[x.strip(),'Color'] + '}{\\\\cite{'+x.strip()+'}}' for x in cite_instance] for cite_instance in cite_keys]\n",
    "        cite_keys_sub = ['\\\\textsuperscript{,}'.join(x) for x in cite_keys_sub]\n",
    "        for idx,cite_instance in enumerate(cite_instances):\n",
    "            s = s.replace(cite_instances[idx],cite_keys_sub[idx])\n",
    "        fout.write(s)\n",
    "        # place color key after abstract\n",
    "        if '\\\\section*{Introduction}\\n' in s:            \n",
    "            l = ['\\\\textcolor{' + colors[k] + '}{'+k+'}' for k in colors.keys()]\n",
    "            fout.write('\\tKey: '+ ', '.join(l)+'.\\n')"
   ]
  }
 ],
 "metadata": {
  "kernelspec": {
   "display_name": "Python 3.10.5 ('cleanBib')",
   "language": "python",
   "name": "python3"
  },
  "language_info": {
   "codemirror_mode": {
    "name": "ipython",
    "version": 3
   },
   "file_extension": ".py",
   "mimetype": "text/x-python",
   "name": "python",
   "nbconvert_exporter": "python",
   "pygments_lexer": "ipython3",
   "version": "3.10.5"
  },
  "sos": {
   "kernels": [
    [
     "Python 3",
     "python3",
     "python3",
     "",
     {
      "name": "ipython",
      "version": 3
     }
    ],
    [
     "R",
     "ir",
     "R",
     "",
     "r"
    ]
   ],
   "panel": {
    "displayed": true,
    "height": 0
   },
   "version": "0.20.1"
  },
  "vscode": {
   "interpreter": {
    "hash": "66f30d3a05dff018f3baf45891c3cf21b32f9380ea78dc5d1d8b601d704d86ef"
   }
  }
 },
 "nbformat": 4,
 "nbformat_minor": 1
}
